{
 "cells": [
  {
   "cell_type": "markdown",
   "id": "95d8a242-998d-404a-a1c1-5ee98c87f7fc",
   "metadata": {},
   "source": [
    "## Calculating Network Error with Loss "
   ]
  },
  {
   "cell_type": "code",
   "execution_count": null,
   "id": "b8529c40-c582-4aad-b375-78311a040fb2",
   "metadata": {},
   "outputs": [],
   "source": []
  }
 ],
 "metadata": {
  "kernelspec": {
   "display_name": "Python 3 (ipykernel)",
   "language": "python",
   "name": "python3"
  },
  "language_info": {
   "codemirror_mode": {
    "name": "ipython",
    "version": 3
   },
   "file_extension": ".py",
   "mimetype": "text/x-python",
   "name": "python",
   "nbconvert_exporter": "python",
   "pygments_lexer": "ipython3",
   "version": "3.11.10"
  }
 },
 "nbformat": 4,
 "nbformat_minor": 5
}
